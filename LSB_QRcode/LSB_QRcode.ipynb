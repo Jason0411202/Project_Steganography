{
 "cells": [
  {
   "cell_type": "code",
   "execution_count": 1,
   "metadata": {},
   "outputs": [],
   "source": [
    "import numpy as np\n",
    "import cv2\n",
    "import os\n",
    "import import_ipynb\n",
    "import qrcode\n",
    "import uuid\n",
    "import random\n",
    "\n",
    "QRcode_size = 31"
   ]
  },
  {
   "cell_type": "code",
   "execution_count": 2,
   "metadata": {},
   "outputs": [],
   "source": [
    "def genQRcode(id = 0):\n",
    "    string = str(uuid.uuid4())\n",
    "    # 35x35 QRcode\n",
    "    img = qrcode.make(string, box_size=1, border=1)\n",
    "\n",
    "    img.save('QRcode.png')\n",
    "    img = cv2.imread('QRcode.png')\n",
    "    img = cv2.resize(img, (QRcode_size, QRcode_size))\n",
    "    img = cv2.cvtColor(img, cv2.COLOR_BGR2GRAY)\n",
    "    img = img.astype(np.uint8)\n",
    "    os.remove('QRcode.png')\n",
    "    return img"
   ]
  },
  {
   "cell_type": "code",
   "execution_count": 3,
   "metadata": {},
   "outputs": [],
   "source": [
    "def LSBQRcode(target_img_path: str, QRcode: np.ndarray, if_random: bool = False, which_channel: int = 0) -> np.ndarray:\n",
    "    img = cv2.imread(target_img_path)\n",
    "\n",
    "    # get blue channel\n",
    "    img_b = img[:,:,0]\n",
    "    # get green channel\n",
    "    img_g = img[:,:,1]\n",
    "    # get red channel\n",
    "    img_r = img[:,:,2]\n",
    "\n",
    "    if which_channel == 0:\n",
    "        select_channel = img_b\n",
    "    elif which_channel == 1:\n",
    "        select_channel = img_g\n",
    "    elif which_channel == 2:\n",
    "        select_channel = img_r\n",
    "\n",
    "    select_channel &= 0b11111110\n",
    "\n",
    "    start_point = [0, 0]\n",
    "    if if_random:\n",
    "        start_point = [random.randint(0, img.shape[0] - QRcode_size - 1), random.randint(0, img.shape[1] - QRcode_size - 1)]\n",
    "\n",
    "    for i in range(QRcode.shape[0]):\n",
    "        for j in range(QRcode.shape[1]):\n",
    "            if QRcode[i][j] == 255:\n",
    "                select_channel[start_point[0] + i][start_point[1] + j] |= 0b00000001\n",
    "    \n",
    "    img[:,:,which_channel] = select_channel\n",
    "    \n",
    "    return img"
   ]
  },
  {
   "cell_type": "code",
   "execution_count": 4,
   "metadata": {},
   "outputs": [],
   "source": [
    "def LSBQRcodeDecode(target_img_path:str):\n",
    "    img = cv2.imread(target_img_path)\n",
    "\n",
    "    # get blue channel\n",
    "    img_b = img[:,:,0]\n",
    "    # get green channel\n",
    "    img_g = img[:,:,1]\n",
    "    # get red channel\n",
    "    img_r = img[:,:,2]\n",
    "\n",
    "    img_b = img_b & 0b00000001\n",
    "\n",
    "    img_b = img_b * 255\n",
    "\n",
    "    # check if the QRcode is in the image\n",
    "    if np.sum(img_b) == 0:\n",
    "        return False\n",
    "    else:\n",
    "        return True\n"
   ]
  },
  {
   "cell_type": "code",
   "execution_count": 5,
   "metadata": {},
   "outputs": [
    {
     "name": "stderr",
     "output_type": "stream",
     "text": [
      "100%|████████████████████████████████████████████████████████████████████████████| 10200/10200 [04:17<00:00, 39.65it/s]\n"
     ]
    }
   ],
   "source": [
    "from tqdm import tqdm\n",
    "# get input images\n",
    "img_path = \"../imageDatabase/outputImages/96/\"\n",
    "img_list = os.listdir(img_path)\n",
    "\n",
    "index = 0\n",
    "\n",
    "progress_bar = tqdm(total=len(img_list), position=0, leave=True)\n",
    "for img_name in img_list:\n",
    "    progress_bar.update(1)\n",
    "    # png or jpg\n",
    "    if img_name[-3:] == \"png\" or img_name[-3:] == \"jpg\":\n",
    "        img = cv2.imread(img_path + img_name)\n",
    "        # check size if > 35x35\n",
    "        if img.shape[0] > QRcode_size and img.shape[1] > QRcode_size:\n",
    "            QRcode = genQRcode(index)\n",
    "            img = LSBQRcode(img_path + img_name, QRcode, if_random=True, which_channel=0)\n",
    "            cv2.imwrite(\"./outputImages/\" + \"_\" + img_name, img)\n",
    "            # print(\"Image \" + img_name + \" done\")\n",
    "            # print(\"Check if QRcode is in the image: \" + str(LSBQRcodeDecode(\"./outputImages/\" + img_name)))\n",
    "            index += 1\n",
    "        # else:\n",
    "             # print(\"Image size is too small\")\n",
    "\n",
    "progress_bar.close()\n",
    "\n"
   ]
  }
 ],
 "metadata": {
  "kernelspec": {
   "display_name": "tf2",
   "language": "python",
   "name": "tf2"
  },
  "language_info": {
   "codemirror_mode": {
    "name": "ipython",
    "version": 3
   },
   "file_extension": ".py",
   "mimetype": "text/x-python",
   "name": "python",
   "nbconvert_exporter": "python",
   "pygments_lexer": "ipython3",
   "version": "3.8.15"
  }
 },
 "nbformat": 4,
 "nbformat_minor": 4
}
