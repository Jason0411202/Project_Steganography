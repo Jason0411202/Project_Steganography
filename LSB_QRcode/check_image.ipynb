{
 "cells": [
  {
   "cell_type": "code",
   "execution_count": 1,
   "id": "ea5b7c20-e65a-4136-aad4-64bd6572f292",
   "metadata": {},
   "outputs": [],
   "source": [
    "import tensorflow as tf\n",
    "from tensorflow.python import keras as keras\n",
    "from tensorflow.python.keras import Sequential\n",
    "from tensorflow.python.keras.layers import Conv2D, AveragePooling2D, MaxPooling2D, Flatten, Dense\n",
    "from tensorflow.python.keras.models import load_model\n",
    "from tensorflow.python.keras.utils import np_utils\n",
    "import matplotlib.pyplot as plt\n",
    "import pandas as pd\n",
    "import numpy as np\n",
    "import os\n",
    "import cv2\n",
    "from tqdm import tqdm\n",
    "import cv2"
   ]
  },
  {
   "cell_type": "code",
   "execution_count": 2,
   "id": "9cffc875-1f15-4649-90b6-9b6034f3382e",
   "metadata": {},
   "outputs": [],
   "source": [
    "# 取得圖片大小\n",
    "\n",
    "IMG_WIDTH=256\n",
    "IMG_HEIGHT=256"
   ]
  },
  {
   "cell_type": "code",
   "execution_count": 3,
   "id": "5b0c60a6-8854-46aa-8186-49ad164b4690",
   "metadata": {},
   "outputs": [],
   "source": [
    "def preprocess_image(img):\n",
    "    target_size = (IMG_HEIGHT, IMG_WIDTH, img.shape[2])\n",
    "    padded_img = np.zeros(target_size, dtype=np.uint8)\n",
    "    padded_img[:min(IMG_HEIGHT,img.shape[0]), :min(IMG_WIDTH,img.shape[1]), 0] = img[:min(IMG_HEIGHT,img.shape[0]), :min(IMG_WIDTH,img.shape[1]), 0]\n",
    "    return padded_img"
   ]
  },
  {
   "cell_type": "code",
   "execution_count": null,
   "id": "9f2de786-bd96-446c-a558-b00dce6b148d",
   "metadata": {},
   "outputs": [
    {
     "name": "stderr",
     "output_type": "stream",
     "text": [
      "  0%|                                                                              | 2/10201 [00:00<00:05, 1935.53it/s]\n"
     ]
    }
   ],
   "source": [
    "#載入資料\n",
    "\n",
    "dataTrain=[]\n",
    "dataLabel=[]\n",
    "maxDataAmount = 1\n",
    "currentDataCount = 0\n",
    "# # 載入未被隱寫過的圖片\n",
    "# file_list=os.listdir('../imageDatabase/outputImages/96/')\n",
    "# for file in tqdm(file_list):\n",
    "#     if currentDataCount > maxDataAmount :\n",
    "#         break\n",
    "#     else :\n",
    "#         currentDataCount+=1\n",
    "    \n",
    "#     if file.endswith('.png') or file.endswith('.jpg'):\n",
    "#         img=cv2.imread('../imageDatabase/outputImages/96/'+file)\n",
    "#         img = img & 1\n",
    "#         img = preprocess_image(img)\n",
    "#         dataTrain.append(img)\n",
    "#         if file[0]=='_':\n",
    "#             dataLabel.append(1)\n",
    "#         else :\n",
    "#             dataLabel.append(0)\n",
    "\n",
    "# # print('dataTrain len:',len(dataTrain))\n",
    "\n",
    "currentDataCount = 0\n",
    "# 載入已被隱寫過的圖片\n",
    "file_list=os.listdir('./outputImages')\n",
    "for file in tqdm(file_list):\n",
    "    if currentDataCount > maxDataAmount :\n",
    "        break\n",
    "    else :\n",
    "        currentDataCount+=1\n",
    "    \n",
    "    if file.endswith('.png') or file.endswith('.jpg'):\n",
    "        img=cv2.imread('./outputImages/'+file)\n",
    "        img = img & 0x0001\n",
    "        img *= 255\n",
    "        img = preprocess_image(img)\n",
    "        dataTrain.append(img)\n",
    "        if file[0]=='_':\n",
    "            dataLabel.append(1)\n",
    "        else :\n",
    "            dataLabel.append(0)\n",
    "\n",
    "cv2.imshow(\"demo\", dataTrain[0])\n",
    "cv2.waitKey(0)\n",
    "cv2.destroyAllWindows()"
   ]
  },
  {
   "cell_type": "code",
   "execution_count": null,
   "id": "4c44af0b-cdb1-4182-a3b5-c63b40dec630",
   "metadata": {},
   "outputs": [],
   "source": []
  }
 ],
 "metadata": {
  "kernelspec": {
   "display_name": "tf2",
   "language": "python",
   "name": "tf2"
  },
  "language_info": {
   "codemirror_mode": {
    "name": "ipython",
    "version": 3
   },
   "file_extension": ".py",
   "mimetype": "text/x-python",
   "name": "python",
   "nbconvert_exporter": "python",
   "pygments_lexer": "ipython3",
   "version": "3.8.15"
  }
 },
 "nbformat": 4,
 "nbformat_minor": 5
}
