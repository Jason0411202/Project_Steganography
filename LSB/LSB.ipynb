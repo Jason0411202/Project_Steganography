{
 "cells": [
  {
   "cell_type": "code",
   "execution_count": null,
   "metadata": {},
   "outputs": [],
   "source": [
    "import numpy as np\n",
    "import cv2\n",
    "import os\n",
    "from tqdm import tqdm \n",
    "#%matplotlib notebook\n",
    "from matplotlib import pyplot as plt\n",
    "print(cv2.__version__)"
   ]
  },
  {
   "cell_type": "code",
   "execution_count": null,
   "metadata": {},
   "outputs": [],
   "source": [
    "INPUT_PATH=\"../imageDatabase/outputImages/96/\"\n",
    "OUTPUT_PATH=\"./lsbImages/\""
   ]
  },
  {
   "cell_type": "code",
   "execution_count": null,
   "metadata": {},
   "outputs": [],
   "source": [
    "def showRGBImg(img:np.ndarray):\n",
    "    imgShow = cv2.cvtColor(img, cv2.COLOR_BGR2RGB)\n",
    "    plt.figure(num='fg1',figsize=(6,6))\n",
    "    plt.imshow(imgShow)\n",
    "    plt.show()"
   ]
  },
  {
   "cell_type": "code",
   "execution_count": null,
   "metadata": {},
   "outputs": [],
   "source": [
    "def convertStringToBinaryCode(message:str,img_height:int,img_width:int):\n",
    "    ans=[]\n",
    "    for word in message:\n",
    "        str=format(ord(word),'08b')\n",
    "        for binary in str:\n",
    "            ans.append(int(binary))\n",
    "\n",
    "    if len(ans)>img_width*img_height*3:\n",
    "        print('Message is too long')\n",
    "        return None\n",
    "    \n",
    "    while len(ans)<img_width*img_height*3:\n",
    "        ans.append(0)\n",
    "\n",
    "    return ans"
   ]
  },
  {
   "cell_type": "code",
   "execution_count": null,
   "metadata": {},
   "outputs": [],
   "source": [
    "def LSB_encode(img:np.ndarray, message:str):\n",
    "    img_height=img.shape[0]\n",
    "    img_width =img.shape[1]\n",
    "    \n",
    "    img_written=img.copy()\n",
    "\n",
    "    writtenData=convertStringToBinaryCode(message,img_height,img_width)\n",
    "    \n",
    "    index=0\n",
    "    for k in range(0,3):\n",
    "        for i in range(img_height):\n",
    "            for j in range(img_width):\n",
    "                if writtenData[index]==1:\n",
    "                    img_written[i,j,k]=img_written[i,j,k] | 1\n",
    "                else:\n",
    "                    img_written[i,j,k]=img_written[i,j,k] & ~1\n",
    "                index+=1\n",
    "\n",
    "    return img_written"
   ]
  },
  {
   "cell_type": "code",
   "execution_count": null,
   "metadata": {},
   "outputs": [],
   "source": [
    "def LSB_decode(img:np.ndarray):\n",
    "\n",
    "    img_height=img.shape[0]\n",
    "    img_width =img.shape[1]\n",
    "    \n",
    "    writtenData=[]\n",
    "    for k in range(0,3):\n",
    "        for i in range(img_height):\n",
    "            for j in range(img_width):\n",
    "                writtenData.append(img[i,j,k] & 1)\n",
    "\n",
    "    message=''\n",
    "    letter=''\n",
    "    for i in writtenData:\n",
    "        letter+=str(i)\n",
    "        if len(letter)==8:\n",
    "            flag=0\n",
    "            for j in letter:\n",
    "                if j=='1':\n",
    "                    flag=1\n",
    "                    break\n",
    "            if flag==0:\n",
    "                continue\n",
    "\n",
    "            message+=chr(int(letter,2))\n",
    "            letter=''\n",
    "            \n",
    "    return message"
   ]
  },
  {
   "cell_type": "code",
   "execution_count": null,
   "metadata": {},
   "outputs": [],
   "source": [
    "file_list=os.listdir(INPUT_PATH)\n",
    "for file in tqdm(file_list):\n",
    "    if file.endswith('.png') or file.endswith('.jpg'):\n",
    "        img = cv2.imread(INPUT_PATH+file, cv2.IMREAD_COLOR)\n",
    "        written_msg=\"[Hidden message: \"+file+\"]\"\n",
    "        encode_img=LSB_encode(img,written_msg)\n",
    "        cv2.imwrite(OUTPUT_PATH+\"_\"+file[:-4]+'_written.png', encode_img, [cv2.IMWRITE_PNG_COMPRESSION, 1])"
   ]
  },
  {
   "cell_type": "code",
   "execution_count": null,
   "metadata": {},
   "outputs": [],
   "source": [
    "file_list=os.listdir(OUTPUT_PATH)\n",
    "for file in tqdm(file_list):\n",
    "    if file.endswith('.png') or file.endswith('.jpg'):\n",
    "        img = cv2.imread(OUTPUT_PATH+file, cv2.IMREAD_COLOR)\n",
    "        decode_msg=LSB_decode(img)\n",
    "        # print(\"decode message:\", decode_msg)"
   ]
  }
 ],
 "metadata": {
  "kernelspec": {
   "display_name": "Python 3 (ipykernel)",
   "language": "python",
   "name": "python3"
  },
  "language_info": {
   "codemirror_mode": {
    "name": "ipython",
    "version": 3
   },
   "file_extension": ".py",
   "mimetype": "text/x-python",
   "name": "python",
   "nbconvert_exporter": "python",
   "pygments_lexer": "ipython3",
   "version": "3.9.0"
  }
 },
 "nbformat": 4,
 "nbformat_minor": 2
}
